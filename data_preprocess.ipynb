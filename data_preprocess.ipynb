{
 "cells": [
  {
   "cell_type": "code",
   "execution_count": null,
   "metadata": {},
   "outputs": [],
   "source": [
    "# paste below in your terminal after activating your conda environment\n",
    "# git clone https://github.com/Yichen-Wang-2003/M156_Group1_Final_project"
   ]
  },
  {
   "cell_type": "code",
   "execution_count": 1,
   "metadata": {},
   "outputs": [],
   "source": [
    "import torch\n",
    "from torchvision import transforms, datasets\n",
    "from torch.utils.data import DataLoader, random_split\n",
    "import numpy as np\n",
    "import os"
   ]
  },
  {
   "cell_type": "code",
   "execution_count": 2,
   "metadata": {},
   "outputs": [
    {
     "name": "stdout",
     "output_type": "stream",
     "text": [
      "/Users/xumelissa/Desktop/2024winter/math156/project\n"
     ]
    }
   ],
   "source": [
    "print(os.getcwd())"
   ]
  },
  {
   "cell_type": "code",
   "execution_count": 4,
   "metadata": {},
   "outputs": [],
   "source": [
    "os.chdir('/Users/yourusername/M156_Group1_Final_project')"
   ]
  },
  {
   "cell_type": "code",
   "execution_count": 5,
   "metadata": {},
   "outputs": [
    {
     "name": "stdout",
     "output_type": "stream",
     "text": [
      "/Users/xumelissa/M156_Group1_Final_project\n"
     ]
    }
   ],
   "source": [
    "print(os.getcwd())"
   ]
  },
  {
   "cell_type": "code",
   "execution_count": 6,
   "metadata": {},
   "outputs": [
    {
     "name": "stdout",
     "output_type": "stream",
     "text": [
      "mean: tensor([0.4624, 0.4076, 0.3523])\n",
      "std: tensor([0.2443, 0.2215, 0.2535])\n"
     ]
    }
   ],
   "source": [
    "transform = transforms.Compose([\n",
    "    transforms.Resize((64, 64)),\n",
    "    transforms.ToTensor(),\n",
    "])\n",
    "\n",
    "data = datasets.ImageFolder(root='/Users/yourusername/M156_Group1_Final_project/archive/simpsons_dataset', transform=transform)\n",
    "\n",
    "dataloader = DataLoader(data, batch_size=64, shuffle=True, num_workers=2)\n",
    "\n",
    "def get_mean_std(loader):\n",
    "    channels_sum, channels_squared_sum, num_batches = 0, 0, 0\n",
    "    \n",
    "    for data, _ in loader:\n",
    "        channels_sum += torch.mean(data, dim=[0, 2, 3])\n",
    "        channels_squared_sum += torch.mean(data**2, dim=[0, 2, 3])\n",
    "        num_batches += 1\n",
    "    \n",
    "    mean = channels_sum / num_batches\n",
    "    std = (channels_squared_sum / num_batches - mean ** 2) ** 0.5\n",
    "    \n",
    "    return mean, std\n",
    "\n",
    "mean, std = get_mean_std(dataloader)\n",
    "\n",
    "print(f'mean: {mean}')\n",
    "print(f'std: {std}')"
   ]
  },
  {
   "cell_type": "code",
   "execution_count": 7,
   "metadata": {},
   "outputs": [
    {
     "name": "stdout",
     "output_type": "stream",
     "text": [
      "42\n"
     ]
    }
   ],
   "source": [
    "print(len(data.classes))"
   ]
  },
  {
   "cell_type": "code",
   "execution_count": 9,
   "metadata": {},
   "outputs": [],
   "source": [
    "# data augmentation and normalization\n",
    "transform = transforms.Compose([\n",
    "    transforms.Resize((64, 64)),\n",
    "    transforms.RandomRotation(20),\n",
    "    transforms.RandomAffine(degrees=0, translate=(0.2, 0.2)),\n",
    "    transforms.RandomHorizontalFlip(),\n",
    "    transforms.ToTensor(),\n",
    "    transforms.Normalize(mean=[0.4624, 0.4076, 0.3523],\n",
    "                         std=[0.2443, 0.2215, 0.2535])\n",
    "])\n",
    "\n",
    "data = datasets.ImageFolder(root='/Users/yourusername/M156_Group1_Final_project/archive/simpsons_dataset', transform=transform)\n",
    "\n",
    "# split the dataset into training and validation\n",
    "train_size = int(0.85 * len(data))\n",
    "val_size = len(data) - train_size\n",
    "train_data, val_data = random_split(data, [train_size, val_size])\n",
    "\n",
    "# create data loaders for training and validation\n",
    "train = DataLoader(train_data, batch_size=64, shuffle=True)\n",
    "val = DataLoader(val_data, batch_size=64, shuffle=False)"
   ]
  },
  {
   "cell_type": "code",
   "execution_count": 10,
   "metadata": {},
   "outputs": [
    {
     "name": "stdout",
     "output_type": "stream",
     "text": [
      "42\n"
     ]
    }
   ],
   "source": [
    "print(len(data.classes))"
   ]
  },
  {
   "cell_type": "code",
   "execution_count": 11,
   "metadata": {},
   "outputs": [
    {
     "name": "stdout",
     "output_type": "stream",
     "text": [
      "found 17793 images belonging to 42 classes in the training set.\n",
      "found 3140 images belonging to 42 classes in the validation set.\n"
     ]
    }
   ],
   "source": [
    "print(f'found {len(train_data)} images belonging to {len(data.classes)} classes in the training set.')\n",
    "print(f'found {len(val_data)} images belonging to {len(data.classes)} classes in the validation set.')"
   ]
  },
  {
   "cell_type": "code",
   "execution_count": null,
   "metadata": {},
   "outputs": [],
   "source": []
  }
 ],
 "metadata": {
  "kernelspec": {
   "display_name": "pic16B",
   "language": "python",
   "name": "python3"
  },
  "language_info": {
   "codemirror_mode": {
    "name": "ipython",
    "version": 3
   },
   "file_extension": ".py",
   "mimetype": "text/x-python",
   "name": "python",
   "nbconvert_exporter": "python",
   "pygments_lexer": "ipython3",
   "version": "3.11.5"
  },
  "orig_nbformat": 4
 },
 "nbformat": 4,
 "nbformat_minor": 2
}
